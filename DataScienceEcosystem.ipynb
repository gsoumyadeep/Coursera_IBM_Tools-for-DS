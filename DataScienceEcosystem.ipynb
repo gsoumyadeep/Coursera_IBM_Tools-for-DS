{
 "cells": [
  {
   "cell_type": "markdown",
   "id": "7e5a9a4f-3af9-4eeb-9e15-21ccd610e8e9",
   "metadata": {},
   "source": [
    "# Data Science Tools and Ecosystem"
   ]
  },
  {
   "cell_type": "markdown",
   "id": "e83d05e1-259a-4011-bf3c-7df615804052",
   "metadata": {},
   "source": [
    "In this notebook, Data Science Tools and Ecosystem are summarized.\n",
    "\n"
   ]
  },
  {
   "cell_type": "markdown",
   "id": "3e147e4b-f6fd-419c-884c-0ef1072e49b6",
   "metadata": {},
   "source": [
    "Some of the popular languages that Data Scientists use are:\n",
    "1. Python\n",
    "2. R\n",
    "3. Apache Hadoop"
   ]
  },
  {
   "cell_type": "markdown",
   "id": "287736d8-1fd5-4a12-88a9-a83ce6bc940c",
   "metadata": {},
   "source": [
    "Some of the commonly used libraries used by Data Scientists include:\n",
    "1. Numpy\n",
    "2. Pandas\n",
    "3. Scikit\n",
    "4. ggplot"
   ]
  },
  {
   "cell_type": "markdown",
   "id": "7bc8a442-bb67-468d-8e49-0390d6e9b92d",
   "metadata": {},
   "source": [
    "| Data Science Tools |\n",
    "|--------------------|\n",
    "| Apache Spark|\n",
    "|Matplotlib|\n",
    "|Scikit-learn|\n"
   ]
  },
  {
   "cell_type": "markdown",
   "id": "b5511f3e-992f-47a2-9e60-d0f1d20dd6d3",
   "metadata": {},
   "source": [
    "### Below are a few examples of evaluating arithmetic expressions in Python.\n",
    "\n"
   ]
  },
  {
   "cell_type": "code",
   "execution_count": 2,
   "id": "b744867a-97a5-46f6-86b4-8631cae8b7fe",
   "metadata": {},
   "outputs": [
    {
     "data": {
      "text/plain": [
       "17"
      ]
     },
     "execution_count": 2,
     "metadata": {},
     "output_type": "execute_result"
    }
   ],
   "source": [
    "#This a simple arithmetic expression to mutiply then add integers\n",
    "(3*4)+5"
   ]
  },
  {
   "cell_type": "code",
   "execution_count": 3,
   "id": "aa3b54cb-ded9-47c3-865a-d459a98818c9",
   "metadata": {},
   "outputs": [
    {
     "data": {
      "text/plain": [
       "3.3333333333333335"
      ]
     },
     "execution_count": 3,
     "metadata": {},
     "output_type": "execute_result"
    }
   ],
   "source": [
    "#This will convert 200 minutes to hours by diving by 60\n",
    "200/60"
   ]
  },
  {
   "cell_type": "markdown",
   "id": "c8c32f0d-025a-4982-8d74-be7ce9049316",
   "metadata": {},
   "source": [
    "__Objectives:__\n",
    "- List popular languages for Data Science\n",
    "- Libraries for Data Science\n",
    "- Jupyer Notebook and Jupyter Lab"
   ]
  },
  {
   "cell_type": "markdown",
   "id": "d3d398b1-85ea-4609-b4ef-d199de7c0c95",
   "metadata": {},
   "source": [
    "## Author:\n",
    "Soumyadeep Ghosh"
   ]
  },
  {
   "cell_type": "code",
   "execution_count": null,
   "id": "31048ffb-186d-4c58-82d9-e9168e0e865e",
   "metadata": {},
   "outputs": [],
   "source": []
  }
 ],
 "metadata": {
  "kernelspec": {
   "display_name": "Python 3 (ipykernel)",
   "language": "python",
   "name": "python3"
  },
  "language_info": {
   "codemirror_mode": {
    "name": "ipython",
    "version": 3
   },
   "file_extension": ".py",
   "mimetype": "text/x-python",
   "name": "python",
   "nbconvert_exporter": "python",
   "pygments_lexer": "ipython3",
   "version": "3.12.1"
  }
 },
 "nbformat": 4,
 "nbformat_minor": 5
}
